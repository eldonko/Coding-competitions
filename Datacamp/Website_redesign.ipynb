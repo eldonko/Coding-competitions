{
 "cells": [
  {
   "cell_type": "markdown",
   "id": "9a9ada08-c9f0-466f-91a0-265fa539f9f5",
   "metadata": {},
   "source": [
    "# Which version of the website should you use?\n",
    "\n",
    "## 📖 Background\n",
    "You work for an early-stage startup in Germany. Your team has been working on a redesign of the landing page. The team believes a new design will increase the number of people who click through and join your site. \n",
    "\n",
    "They have been testing the changes for a few weeks and now they want to measure the impact of the change and need you to determine if the increase can be due to random chance or if it is statistically significant."
   ]
  },
  {
   "cell_type": "code",
   "execution_count": null,
   "id": "05784911-3d8a-4664-972e-b9f9cffa0c3b",
   "metadata": {},
   "outputs": [],
   "source": [
    "from sklearn.metrics import confusion_matrix\n",
    "import seaborn as sns\n",
    "import scipy.stats as stats"
   ]
  },
  {
   "cell_type": "code",
   "execution_count": null,
   "id": "40251159-3eea-47f8-bfb4-09e38d5ced65",
   "metadata": {},
   "outputs": [
    {
     "data": {
      "text/html": [
       "<div>\n",
       "<style scoped>\n",
       "    .dataframe tbody tr th:only-of-type {\n",
       "        vertical-align: middle;\n",
       "    }\n",
       "\n",
       "    .dataframe tbody tr th {\n",
       "        vertical-align: top;\n",
       "    }\n",
       "\n",
       "    .dataframe thead th {\n",
       "        text-align: right;\n",
       "    }\n",
       "</style>\n",
       "<table border=\"1\" class=\"dataframe\">\n",
       "  <thead>\n",
       "    <tr style=\"text-align: right;\">\n",
       "      <th></th>\n",
       "      <th>treatment</th>\n",
       "      <th>new_images</th>\n",
       "      <th>converted</th>\n",
       "    </tr>\n",
       "  </thead>\n",
       "  <tbody>\n",
       "    <tr>\n",
       "      <th>0</th>\n",
       "      <td>yes</td>\n",
       "      <td>yes</td>\n",
       "      <td>0</td>\n",
       "    </tr>\n",
       "    <tr>\n",
       "      <th>1</th>\n",
       "      <td>yes</td>\n",
       "      <td>yes</td>\n",
       "      <td>0</td>\n",
       "    </tr>\n",
       "    <tr>\n",
       "      <th>2</th>\n",
       "      <td>yes</td>\n",
       "      <td>yes</td>\n",
       "      <td>0</td>\n",
       "    </tr>\n",
       "    <tr>\n",
       "      <th>3</th>\n",
       "      <td>yes</td>\n",
       "      <td>no</td>\n",
       "      <td>0</td>\n",
       "    </tr>\n",
       "    <tr>\n",
       "      <th>4</th>\n",
       "      <td>no</td>\n",
       "      <td>yes</td>\n",
       "      <td>0</td>\n",
       "    </tr>\n",
       "  </tbody>\n",
       "</table>\n",
       "</div>"
      ],
      "text/plain": [
       "  treatment new_images  converted\n",
       "0       yes        yes          0\n",
       "1       yes        yes          0\n",
       "2       yes        yes          0\n",
       "3       yes         no          0\n",
       "4        no        yes          0"
      ]
     },
     "execution_count": 2,
     "metadata": {},
     "output_type": "execute_result"
    }
   ],
   "source": [
    "import pandas as pd\n",
    "df = pd.read_csv('./data/redesign.csv')\n",
    "df.head()"
   ]
  },
  {
   "cell_type": "markdown",
   "id": "0e13c446-69db-4d78-bf57-8818aea14131",
   "metadata": {},
   "source": [
    "# Conversion rate\n",
    "The conversion rate for the control group is the lowest of all possible combinations. This means, every test applied yielded an improvement (if statistically significant, which is still to be checked). The best conversion rate was achieved when showing the **new** landing page and the **old** images. "
   ]
  },
  {
   "cell_type": "code",
   "execution_count": null,
   "id": "416560fc-76c3-455a-b014-ddba66f6f241",
   "metadata": {},
   "outputs": [
    {
     "data": {
      "text/plain": [
       "<AxesSubplot:xlabel='new_images', ylabel='treatment'>"
      ]
     },
     "execution_count": 8,
     "metadata": {},
     "output_type": "execute_result"
    },
    {
     "data": {
      "image/png": "[encoded data removed]",
      "text/plain": [
       "<Figure size 432x288 with 2 Axes>"
      ]
     },
     "metadata": {
      "needs_background": "light"
     },
     "output_type": "display_data"
    }
   ],
   "source": [
    "grouped = df.groupby(['treatment', 'new_images'])\n",
    "\n",
    "rates = pd.DataFrame(grouped.sum()/grouped.count()).reset_index().pivot(index='treatment', columns='new_images', values='converted')\n",
    "\n",
    "sns.heatmap(rates, annot=True, fmt='g')"
   ]
  },
  {
   "cell_type": "markdown",
   "id": "b97e10aa-ae06-44fc-9a86-af731f87bcf0",
   "metadata": {},
   "source": [
    "# Statistical significance\n",
    "As the maximum p-value is roughly 0.003, the results can be considered statistically significant. Therefore, the improve in conversion rate is not explained by randomness. For the best conversion rates, the company should publish the website using the **new** landing page and the **old** images."
   ]
  },
  {
   "cell_type": "code",
   "execution_count": null,
   "id": "eef1c218-cee2-47e9-a9df-1d5ca1f886b1",
   "metadata": {},
   "outputs": [],
   "source": [
    "def get_pvalue(con_conv, test_conv, con_size, test_size):  \n",
    "    lift =  - abs(test_conv - con_conv)\n",
    "\n",
    "    scale_one = con_conv * (1 - con_conv) * (1 / con_size)\n",
    "    scale_two = test_conv * (1 - test_conv) * (1 / test_size)\n",
    "    scale_val = (scale_one + scale_two)**0.5\n",
    "\n",
    "    p_value = 2 * stats.norm.cdf(lift, loc = 0, scale = scale_val )\n",
    "\n",
    "    return p_value"
   ]
  },
  {
   "cell_type": "code",
   "execution_count": null,
   "id": "be6dc70b-a6ef-42f7-abb0-9f20bf5878b9",
   "metadata": {},
   "outputs": [
    {
     "data": {
      "text/html": [
       "<div>\n",
       "<style scoped>\n",
       "    .dataframe tbody tr th:only-of-type {\n",
       "        vertical-align: middle;\n",
       "    }\n",
       "\n",
       "    .dataframe tbody tr th {\n",
       "        vertical-align: top;\n",
       "    }\n",
       "\n",
       "    .dataframe thead th {\n",
       "        text-align: right;\n",
       "    }\n",
       "</style>\n",
       "<table border=\"1\" class=\"dataframe\">\n",
       "  <thead>\n",
       "    <tr style=\"text-align: right;\">\n",
       "      <th>new_images</th>\n",
       "      <th>no</th>\n",
       "      <th>yes</th>\n",
       "    </tr>\n",
       "    <tr>\n",
       "      <th>treatment</th>\n",
       "      <th></th>\n",
       "      <th></th>\n",
       "    </tr>\n",
       "  </thead>\n",
       "  <tbody>\n",
       "    <tr>\n",
       "      <th>no</th>\n",
       "      <td>10121</td>\n",
       "      <td>10121</td>\n",
       "    </tr>\n",
       "    <tr>\n",
       "      <th>yes</th>\n",
       "      <td>10121</td>\n",
       "      <td>10121</td>\n",
       "    </tr>\n",
       "  </tbody>\n",
       "</table>\n",
       "</div>"
      ],
      "text/plain": [
       "new_images     no    yes\n",
       "treatment               \n",
       "no          10121  10121\n",
       "yes         10121  10121"
      ]
     },
     "metadata": {},
     "output_type": "display_data"
    }
   ],
   "source": [
    "display(grouped.count().reset_index().pivot(index='treatment', columns='new_images', values='converted'))"
   ]
  },
  {
   "cell_type": "code",
   "execution_count": null,
   "id": "2ddd5fb6-0f93-42e7-95e8-b596835a411c",
   "metadata": {},
   "outputs": [
    {
     "name": "stdout",
     "output_type": "stream",
     "text": [
      "Maximum p-value:  0.0037020412269646225\n"
     ]
    }
   ],
   "source": [
    "con_size = 10121\n",
    "test_size = 10121\n",
    "\n",
    "max_pvalue = get_pvalue(rates.min().min(), rates.max().max(), con_size, test_size)\n",
    "\n",
    "print('Maximum p-value: ', max_pvalue)"
   ]
  }
 ],
 "metadata": {
  "kernelspec": {
   "display_name": "Python 3 (ipykernel)",
   "language": "python",
   "name": "python3"
  },
  "language_info": {
   "codemirror_mode": {
    "name": "ipython",
    "version": 3
   },
   "file_extension": ".py",
   "mimetype": "text/x-python",
   "name": "python",
   "nbconvert_exporter": "python",
   "pygments_lexer": "ipython3",
   "version": "3.8.10"
  }
 },
 "nbformat": 4,
 "nbformat_minor": 5
}
